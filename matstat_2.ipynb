{
 "cells": [
  {
   "cell_type": "markdown",
   "metadata": {},
   "source": [
    "# Задание 2"
   ]
  },
  {
   "cell_type": "code",
   "execution_count": 1,
   "metadata": {},
   "outputs": [],
   "source": [
    "##Задача 1"
   ]
  },
  {
   "cell_type": "markdown",
   "metadata": {},
   "source": [
    "Контрольная работа состоит из пяти вопросов. На каждый вопрос приведено четыре варианта ответа, один из которых правильный. Составьте закон распределения числа правильных ответов при простом угадывании. Найдите M(X), D(X)."
   ]
  },
  {
   "cell_type": "code",
   "execution_count": 57,
   "metadata": {},
   "outputs": [],
   "source": [
    "import numpy as np\n",
    "from math import factorial\n",
    "from scipy.special import comb"
   ]
  },
  {
   "cell_type": "code",
   "execution_count": 56,
   "metadata": {},
   "outputs": [
    {
     "name": "stdout",
     "output_type": "stream",
     "text": [
      "M(X): 1.25\n",
      "D(X):  1.2375\n"
     ]
    }
   ],
   "source": [
    "n = 5\n",
    "p = 1/4\n",
    "i = 1 - p\n",
    "a = n * p\n",
    "b = n * p * q\n",
    "print(f'M(X): {a}')\n",
    "print(f'D(X):  {b}')"
   ]
  },
  {
   "cell_type": "markdown",
   "metadata": {},
   "source": [
    "Воспользовались биномиальным законом: n будет равно общему числу вопросов, а p= вероятности угоадать правильный вариант ответа. Применим далее формулу Бернули"
   ]
  },
  {
   "cell_type": "code",
   "execution_count": 58,
   "metadata": {},
   "outputs": [
    {
     "name": "stdout",
     "output_type": "stream",
     "text": [
      "вероятность 1 правильного ответа:  0.3955078125\n"
     ]
    }
   ],
   "source": [
    "k = 1\n",
    "p1 = combinations(n, k) * (p**k) * (i**(n-k))\n",
    "print(f'вероятность 1 правильного ответа:  {p1}')"
   ]
  },
  {
   "cell_type": "code",
   "execution_count": 59,
   "metadata": {},
   "outputs": [
    {
     "name": "stdout",
     "output_type": "stream",
     "text": [
      "вероятность 2 правильных ответов:  0.263671875\n"
     ]
    }
   ],
   "source": [
    "k = 2\n",
    "p2 = combinations(n, k) * (p**k) * (i**(n-k))\n",
    "print(f'вероятность 2 правильных ответов:  {p2}')"
   ]
  },
  {
   "cell_type": "code",
   "execution_count": 60,
   "metadata": {},
   "outputs": [
    {
     "name": "stdout",
     "output_type": "stream",
     "text": [
      "вероятность 3 правильных ответов:  0.087890625\n"
     ]
    }
   ],
   "source": [
    "k = 3\n",
    "p3 = combinations(n, k) * (p**k) * (i**(n-k))\n",
    "print(f'вероятность 3 правильных ответов:  {p3}')"
   ]
  },
  {
   "cell_type": "code",
   "execution_count": 61,
   "metadata": {},
   "outputs": [
    {
     "name": "stdout",
     "output_type": "stream",
     "text": [
      "вероятность 4 правильных ответов:  0.0146484375\n"
     ]
    }
   ],
   "source": [
    "k = 4\n",
    "p4 = combinations(n, k) * (p**k) * (i**(n-k))\n",
    "print(f'вероятность 4 правильных ответов:  {p4}')"
   ]
  },
  {
   "cell_type": "code",
   "execution_count": 62,
   "metadata": {},
   "outputs": [
    {
     "name": "stdout",
     "output_type": "stream",
     "text": [
      "вероятность, что все ответы правильные:  0.0009765625\n"
     ]
    }
   ],
   "source": [
    "k = 5\n",
    "p5 = combinations(n, k) * (p**k) * (i**(n-k))\n",
    "print(f'вероятность, что все ответы правильные:  {p5}')"
   ]
  },
  {
   "cell_type": "code",
   "execution_count": 63,
   "metadata": {},
   "outputs": [
    {
     "name": "stdout",
     "output_type": "stream",
     "text": [
      "вероятность, что ни один ответ не правильный:  0.2373046875\n"
     ]
    }
   ],
   "source": [
    "k = 0\n",
    "p0 = combinations(n, k) * (p**k) * (i**(n-k))\n",
    "print(f'вероятность, что ни один ответ не правильный:  {p0}')"
   ]
  },
  {
   "cell_type": "code",
   "execution_count": 40,
   "metadata": {},
   "outputs": [],
   "source": [
    "##Задача 2"
   ]
  },
  {
   "cell_type": "markdown",
   "metadata": {},
   "source": [
    "Вероятность попадания в цель при одном выстреле равна 0.01. Какова вероятность того, что число попаданий при 200 выстрелах будет не менее 5 и не более 10?"
   ]
  },
  {
   "cell_type": "code",
   "execution_count": 65,
   "metadata": {},
   "outputs": [
    {
     "name": "stdout",
     "output_type": "stream",
     "text": [
      "Вероятность 5-10 точных выстрелов: 0.051739381860374606\n"
     ]
    }
   ],
   "source": [
    "p = 0.01\n",
    "a = 1 - p\n",
    "n = 200\n",
    "k1 = 5\n",
    "k2 = 6\n",
    "k3 = 7\n",
    "k4 = 8\n",
    "k5 = 9\n",
    "k0 = 10\n",
    "p1 = comb(n, k1) * (p**k1) * (a**(n-k1))\n",
    "p2 = comb(n, k2) * (p**k2) * (a**(n-k2))\n",
    "p3 = comb(n, k3) * (p**k3) * (a**(n-k3))\n",
    "p4 = comb(n, k4) * (p**k4) * (a**(n-k4))\n",
    "p5 = comb(n, k5) * (p**k5) * (a**(n-k5))\n",
    "p0 = comb(n, k0) * (p**k0) * (a**(n-k0))\n",
    "p9 = p1 + p2 + p3 + p4 + p5 + p0\n",
    "print(f'Вероятность 5-10 точных выстрелов: {p9}')"
   ]
  },
  {
   "cell_type": "markdown",
   "metadata": {},
   "source": [
    "рассмотрели вероятность попадания от 5 до 10 выстрелов включительно, то есть 6 чисел. вероятности попадания не зависят друг от друга, поэтому их сложили"
   ]
  },
  {
   "cell_type": "code",
   "execution_count": null,
   "metadata": {},
   "outputs": [],
   "source": []
  }
 ],
 "metadata": {
  "kernelspec": {
   "display_name": "Python 3",
   "language": "python",
   "name": "python3"
  },
  "language_info": {
   "codemirror_mode": {
    "name": "ipython",
    "version": 3
   },
   "file_extension": ".py",
   "mimetype": "text/x-python",
   "name": "python",
   "nbconvert_exporter": "python",
   "pygments_lexer": "ipython3",
   "version": "3.8.3"
  }
 },
 "nbformat": 4,
 "nbformat_minor": 4
}
